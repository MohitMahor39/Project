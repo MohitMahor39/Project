{
 "cells": [
  {
   "cell_type": "code",
   "execution_count": null,
   "id": "80724217",
   "metadata": {},
   "outputs": [],
   "source": [
    "'''\n",
    "Snake Water Gun is one of the famous two-player game played by many people. It is a hand game in which the player randomly \n",
    "chooses any of the three forms i.e. snake, water, and gun. Here, we are going to implement this game using python.\n",
    "'''"
   ]
  },
  {
   "cell_type": "code",
   "execution_count": 1,
   "id": "a2da790d",
   "metadata": {},
   "outputs": [
    {
     "name": "stdout",
     "output_type": "stream",
     "text": [
      "Choose any one {Snake, Water, Gun}: water\n",
      "Computer chose water\n",
      "You chose water\n",
      "\n",
      "Both are selected water. It is tie..!\n"
     ]
    }
   ],
   "source": [
    "import numpy as np\n",
    "\n",
    "User_turn=input(\"Choose any one {Snake, Water, Gun}: \")\n",
    "Possible_action = [\"snake\",\"water\",\"gun\"]\n",
    "Comp_turn=np.random.choice(Possible_action)\n",
    "print(f\"Computer chose {Comp_turn}\\nYou chose {User_turn}\\n\")\n",
    "\n",
    "if Comp_turn==User_turn:\n",
    "    print(f\"Both are selected {User_turn}. It is tie..!\")\n",
    "elif User_turn==\"snake\":\n",
    "    if Comp_turn==\"water\":\n",
    "        print(f\"Snake drink a water. You are Win..!\")\n",
    "    else:\n",
    "        print(f\"Gun will kill the Snake. You are lose..!\")\n",
    "\n",
    "elif User_turn==\"water\":\n",
    "    if Comp_turn==\"snake\":\n",
    "        print(f\"Snake drink a water. You are lose..!\")\n",
    "    else:\n",
    "        print(f\"Gun will drown in the water. You are Win..!\")\n",
    "        \n",
    "elif User_turn==\"gun\":\n",
    "    if Comp_turn==\"snake\":\n",
    "        print(f\"Gun will kill the Snake. You are Win..!\")\n",
    "    else:\n",
    "        print(f\"Gun will drown in the water. You are lose..!\")\n",
    "        \n",
    "    "
   ]
  },
  {
   "cell_type": "code",
   "execution_count": null,
   "id": "94013589",
   "metadata": {},
   "outputs": [],
   "source": []
  },
  {
   "cell_type": "code",
   "execution_count": null,
   "id": "ecfc9b36",
   "metadata": {},
   "outputs": [],
   "source": []
  },
  {
   "cell_type": "code",
   "execution_count": null,
   "id": "5f4930cf",
   "metadata": {},
   "outputs": [],
   "source": []
  }
 ],
 "metadata": {
  "kernelspec": {
   "display_name": "Python 3 (ipykernel)",
   "language": "python",
   "name": "python3"
  },
  "language_info": {
   "codemirror_mode": {
    "name": "ipython",
    "version": 3
   },
   "file_extension": ".py",
   "mimetype": "text/x-python",
   "name": "python",
   "nbconvert_exporter": "python",
   "pygments_lexer": "ipython3",
   "version": "3.9.12"
  }
 },
 "nbformat": 4,
 "nbformat_minor": 5
}
